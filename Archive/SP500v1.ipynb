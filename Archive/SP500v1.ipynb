{
 "cells": [
  {
   "cell_type": "code",
   "execution_count": 105,
   "metadata": {
    "scrolled": false
   },
   "outputs": [
    {
     "data": {
      "text/html": [
       "<div>\n",
       "<style scoped>\n",
       "    .dataframe tbody tr th:only-of-type {\n",
       "        vertical-align: middle;\n",
       "    }\n",
       "\n",
       "    .dataframe tbody tr th {\n",
       "        vertical-align: top;\n",
       "    }\n",
       "\n",
       "    .dataframe thead th {\n",
       "        text-align: right;\n",
       "    }\n",
       "</style>\n",
       "<table border=\"1\" class=\"dataframe\">\n",
       "  <thead>\n",
       "    <tr style=\"text-align: right;\">\n",
       "      <th></th>\n",
       "      <th>Date</th>\n",
       "      <th>Open</th>\n",
       "      <th>High</th>\n",
       "      <th>Low</th>\n",
       "      <th>Close</th>\n",
       "      <th>Adj Close</th>\n",
       "      <th>Volume</th>\n",
       "      <th>USD_to_EUR</th>\n",
       "      <th>GDP</th>\n",
       "      <th>NonFarm_Payroll</th>\n",
       "      <th>3_month_Libor</th>\n",
       "      <th>Unemployment</th>\n",
       "    </tr>\n",
       "  </thead>\n",
       "  <tbody>\n",
       "    <tr>\n",
       "      <th>9</th>\n",
       "      <td>43343</td>\n",
       "      <td>2898.370117</td>\n",
       "      <td>2906.320068</td>\n",
       "      <td>2891.729980</td>\n",
       "      <td>2901.520020</td>\n",
       "      <td>2901.520020</td>\n",
       "      <td>2880260000</td>\n",
       "      <td>1.1596</td>\n",
       "      <td>18514.595</td>\n",
       "      <td>149226.0</td>\n",
       "      <td>2.32075</td>\n",
       "      <td>6370.0</td>\n",
       "    </tr>\n",
       "    <tr>\n",
       "      <th>10</th>\n",
       "      <td>43342</td>\n",
       "      <td>2908.939941</td>\n",
       "      <td>2912.459961</td>\n",
       "      <td>2895.219971</td>\n",
       "      <td>2901.129883</td>\n",
       "      <td>2901.129883</td>\n",
       "      <td>2802180000</td>\n",
       "      <td>1.1646</td>\n",
       "      <td>18514.595</td>\n",
       "      <td>149226.0</td>\n",
       "      <td>2.32125</td>\n",
       "      <td>6370.0</td>\n",
       "    </tr>\n",
       "    <tr>\n",
       "      <th>11</th>\n",
       "      <td>43341</td>\n",
       "      <td>2900.620117</td>\n",
       "      <td>2916.500000</td>\n",
       "      <td>2898.399902</td>\n",
       "      <td>2914.040039</td>\n",
       "      <td>2914.040039</td>\n",
       "      <td>2791860000</td>\n",
       "      <td>1.1699</td>\n",
       "      <td>18514.595</td>\n",
       "      <td>149226.0</td>\n",
       "      <td>2.31263</td>\n",
       "      <td>6370.0</td>\n",
       "    </tr>\n",
       "    <tr>\n",
       "      <th>12</th>\n",
       "      <td>43340</td>\n",
       "      <td>2901.449951</td>\n",
       "      <td>2903.770020</td>\n",
       "      <td>2893.500000</td>\n",
       "      <td>2897.520020</td>\n",
       "      <td>2897.520020</td>\n",
       "      <td>2683190000</td>\n",
       "      <td>1.1720</td>\n",
       "      <td>18514.595</td>\n",
       "      <td>149226.0</td>\n",
       "      <td>2.31475</td>\n",
       "      <td>6370.0</td>\n",
       "    </tr>\n",
       "    <tr>\n",
       "      <th>13</th>\n",
       "      <td>43339</td>\n",
       "      <td>2884.689941</td>\n",
       "      <td>2898.250000</td>\n",
       "      <td>2884.689941</td>\n",
       "      <td>2896.739990</td>\n",
       "      <td>2896.739990</td>\n",
       "      <td>2854080000</td>\n",
       "      <td>1.1676</td>\n",
       "      <td>18514.595</td>\n",
       "      <td>149226.0</td>\n",
       "      <td>2.31725</td>\n",
       "      <td>6370.0</td>\n",
       "    </tr>\n",
       "  </tbody>\n",
       "</table>\n",
       "</div>"
      ],
      "text/plain": [
       "     Date         Open         High          Low        Close    Adj Close  \\\n",
       "9   43343  2898.370117  2906.320068  2891.729980  2901.520020  2901.520020   \n",
       "10  43342  2908.939941  2912.459961  2895.219971  2901.129883  2901.129883   \n",
       "11  43341  2900.620117  2916.500000  2898.399902  2914.040039  2914.040039   \n",
       "12  43340  2901.449951  2903.770020  2893.500000  2897.520020  2897.520020   \n",
       "13  43339  2884.689941  2898.250000  2884.689941  2896.739990  2896.739990   \n",
       "\n",
       "        Volume  USD_to_EUR        GDP  NonFarm_Payroll  3_month_Libor  \\\n",
       "9   2880260000      1.1596  18514.595         149226.0        2.32075   \n",
       "10  2802180000      1.1646  18514.595         149226.0        2.32125   \n",
       "11  2791860000      1.1699  18514.595         149226.0        2.31263   \n",
       "12  2683190000      1.1720  18514.595         149226.0        2.31475   \n",
       "13  2854080000      1.1676  18514.595         149226.0        2.31725   \n",
       "\n",
       "    Unemployment  \n",
       "9         6370.0  \n",
       "10        6370.0  \n",
       "11        6370.0  \n",
       "12        6370.0  \n",
       "13        6370.0  "
      ]
     },
     "execution_count": 105,
     "metadata": {},
     "output_type": "execute_result"
    }
   ],
   "source": [
    "import pandas as pd\n",
    "import matplotlib.pyplot as plt\n",
    "excel_file = 'D:\\Combined_Values.csv'\n",
    "Combined_Values = pd.read_csv(excel_file)\n",
    "#Combined_Values.drop(Combined_Values.tail(1).index)\n",
    "Combined_Values = Combined_Values.drop(Combined_Values.index[0:9]) #gets rid of first N/A\n",
    "Combined_Values = Combined_Values.drop(Combined_Values.index[1000:17989]) #gets rid of last N/A\n",
    "Combined_Values.head()\n",
    "#Combined_Values.index[1,15]"
   ]
  },
  {
   "cell_type": "code",
   "execution_count": 114,
   "metadata": {},
   "outputs": [
    {
     "data": {
      "text/plain": [
       "<matplotlib.axes._subplots.AxesSubplot at 0x167afb3d198>"
      ]
     },
     "execution_count": 114,
     "metadata": {},
     "output_type": "execute_result"
    },
    {
     "data": {
      "image/png": "[encoded data removed]",
      "text/plain": [
       "<Figure size 432x288 with 1 Axes>"
      ]
     },
     "metadata": {},
     "output_type": "display_data"
    }
   ],
   "source": [
    "plt.clf()\n",
    "ax = plt.gca()\n",
    "Combined_Values.plot(kind='scatter',x='Date',y='Close',color='red', ax=ax)\n",
    "Combined_Values.plot(kind='scatter',x='Date',y='GDP',color='blue',ax=ax)\n",
    "Combined_Values.plot(kind='scatter',x='Date',y='USD_to_EUR',color='green',ax=ax)\n",
    "Combined_Values.plot(kind='scatter',x='Date',y='NonFarm_Payroll',color='yellow',ax=ax)\n",
    "Combined_Values.plot(kind='scatter',x='Date',y='3_month_Libor',color='orange',ax=ax)\n",
    "Combined_Values.plot(kind='scatter',x='Date',y='Unemployment',color='purple',ax=ax)\n"
   ]
  },
  {
   "cell_type": "code",
   "execution_count": null,
   "metadata": {},
   "outputs": [],
   "source": []
  },
  {
   "cell_type": "code",
   "execution_count": null,
   "metadata": {},
   "outputs": [],
   "source": []
  }
 ],
 "metadata": {
  "kernelspec": {
   "display_name": "Python 3",
   "language": "python",
   "name": "python3"
  },
  "language_info": {
   "codemirror_mode": {
    "name": "ipython",
    "version": 3
   },
   "file_extension": ".py",
   "mimetype": "text/x-python",
   "name": "python",
   "nbconvert_exporter": "python",
   "pygments_lexer": "ipython3",
   "version": "3.6.5"
  }
 },
 "nbformat": 4,
 "nbformat_minor": 2
}
